{
 "cells": [
  {
   "cell_type": "markdown",
   "id": "00a327d1",
   "metadata": {
    "papermill": {
     "duration": 0.052464,
     "end_time": "2023-05-23T01:53:35.159378",
     "exception": false,
     "start_time": "2023-05-23T01:53:35.106914",
     "status": "completed"
    },
    "tags": []
   },
   "source": [
    "# Machine Learning Workflow\n",
    "\n",
    "Although we might don't use them all, the general structure of a machine learning project stays relatively constant: \n",
    "\n",
    "1. Data cleaning and formatting\n",
    "2. Exploratory data analysis\n",
    "3. Feature engineering and selection\n",
    "4. Establish a baseline and compare several machine learning models on a performance metric\n",
    "5. Perform hyperparameter tuning on the best model to optimize it for the problem\n",
    "6. Evaluate the best model on the testing set\n",
    "7. Interpret the model results to the extent possible\n",
    "8. Draw conclusions and write a well-documented report"
   ]
  },
  {
   "cell_type": "code",
   "execution_count": 1,
   "id": "c4ae83f7",
   "metadata": {
    "_cell_guid": "b1076dfc-b9ad-4769-8c92-a6c4dae69d19",
    "_kg_hide-input": true,
    "_uuid": "8f2839f25d086af736a60e9eeb907d3b93b6e0e5",
    "execution": {
     "iopub.execute_input": "2023-05-23T01:53:35.259877Z",
     "iopub.status.busy": "2023-05-23T01:53:35.258008Z",
     "iopub.status.idle": "2023-05-23T01:53:36.385202Z",
     "shell.execute_reply": "2023-05-23T01:53:36.384589Z",
     "shell.execute_reply.started": "2022-02-10T13:45:04.307713Z"
    },
    "papermill": {
     "duration": 1.178807,
     "end_time": "2023-05-23T01:53:36.385387",
     "exception": false,
     "start_time": "2023-05-23T01:53:35.206580",
     "status": "completed"
    },
    "tags": []
   },
   "outputs": [
    {
     "name": "stdout",
     "output_type": "stream",
     "text": [
      "/kaggle/input/titanic/train.csv\n",
      "/kaggle/input/titanic/test.csv\n",
      "/kaggle/input/titanic/gender_submission.csv\n"
     ]
    }
   ],
   "source": [
    "# This Python 3 environment comes with many helpful analytics libraries installed\n",
    "# It is defined by the kaggle/python Docker image: https://github.com/kaggle/docker-python\n",
    "# For example, here's several helpful packages to load\n",
    "\n",
    "import numpy as np # linear algebra\n",
    "import pandas as pd # data processing, CSV file I/O (e.g. pd.read_csv)\n",
    "import matplotlib.pyplot as plt\n",
    "%matplotlib inline\n",
    "import seaborn as sns\n",
    "\n",
    "# machine learning\n",
    "from sklearn.model_selection import cross_val_score,train_test_split\n",
    "from sklearn.naive_bayes import GaussianNB\n",
    "from sklearn.linear_model import LogisticRegression\n",
    "from sklearn.neighbors import KNeighborsClassifier\n",
    "from sklearn.ensemble import RandomForestClassifier,AdaBoostClassifier\n",
    "from sklearn.svm import SVC\n",
    "from sklearn.tree import DecisionTreeClassifier\n",
    "from sklearn.preprocessing import StandardScaler\n",
    "from sklearn.metrics import accuracy_score, classification_report, confusion_matrix\n",
    "# Hyperparameter tuning\n",
    "from sklearn.model_selection import RandomizedSearchCV, GridSearchCV\n",
    "# Input data files are available in the read-only \"../input/\" directory\n",
    "# For example, running this (by clicking run or pressing Shift+Enter) will list all files under the input directory\n",
    "\n",
    "import os\n",
    "for dirname, _, filenames in os.walk('/kaggle/input'):\n",
    "    for filename in filenames:\n",
    "        print(os.path.join(dirname, filename))\n",
    "\n",
    "# You can write up to 20GB to the current directory (/kaggle/working/) that gets preserved as output when you create a version using \"Save & Run All\" \n",
    "# You can also write temporary files to /kaggle/temp/, but they won't be saved outside of the current session"
   ]
  },
  {
   "cell_type": "code",
   "execution_count": 2,
   "id": "a142a4f2",
   "metadata": {
    "_kg_hide-input": true,
    "execution": {
     "iopub.execute_input": "2023-05-23T01:53:36.479379Z",
     "iopub.status.busy": "2023-05-23T01:53:36.478592Z",
     "iopub.status.idle": "2023-05-23T01:53:36.500925Z",
     "shell.execute_reply": "2023-05-23T01:53:36.500403Z",
     "shell.execute_reply.started": "2022-02-10T13:45:05.423731Z"
    },
    "papermill": {
     "duration": 0.069245,
     "end_time": "2023-05-23T01:53:36.501069",
     "exception": false,
     "start_time": "2023-05-23T01:53:36.431824",
     "status": "completed"
    },
    "tags": []
   },
   "outputs": [],
   "source": [
    "train_data = pd.read_csv(\"/kaggle/input/titanic/train.csv\")\n",
    "test_df = pd.read_csv('/kaggle/input/titanic/test.csv')"
   ]
  },
  {
   "cell_type": "code",
   "execution_count": 3,
   "id": "3f57de2d",
   "metadata": {
    "_kg_hide-input": true,
    "execution": {
     "iopub.execute_input": "2023-05-23T01:53:36.606338Z",
     "iopub.status.busy": "2023-05-23T01:53:36.598046Z",
     "iopub.status.idle": "2023-05-23T01:53:36.649890Z",
     "shell.execute_reply": "2023-05-23T01:53:36.651141Z",
     "shell.execute_reply.started": "2022-02-10T13:45:05.449522Z"
    },
    "papermill": {
     "duration": 0.107082,
     "end_time": "2023-05-23T01:53:36.651436",
     "exception": false,
     "start_time": "2023-05-23T01:53:36.544354",
     "status": "completed"
    },
    "tags": []
   },
   "outputs": [
    {
     "data": {
      "text/html": [
       "<div>\n",
       "<style scoped>\n",
       "    .dataframe tbody tr th:only-of-type {\n",
       "        vertical-align: middle;\n",
       "    }\n",
       "\n",
       "    .dataframe tbody tr th {\n",
       "        vertical-align: top;\n",
       "    }\n",
       "\n",
       "    .dataframe thead th {\n",
       "        text-align: right;\n",
       "    }\n",
       "</style>\n",
       "<table border=\"1\" class=\"dataframe\">\n",
       "  <thead>\n",
       "    <tr style=\"text-align: right;\">\n",
       "      <th></th>\n",
       "      <th>PassengerId</th>\n",
       "      <th>Survived</th>\n",
       "      <th>Pclass</th>\n",
       "      <th>Name</th>\n",
       "      <th>Sex</th>\n",
       "      <th>Age</th>\n",
       "      <th>SibSp</th>\n",
       "      <th>Parch</th>\n",
       "      <th>Ticket</th>\n",
       "      <th>Fare</th>\n",
       "      <th>Cabin</th>\n",
       "      <th>Embarked</th>\n",
       "    </tr>\n",
       "  </thead>\n",
       "  <tbody>\n",
       "    <tr>\n",
       "      <th>719</th>\n",
       "      <td>720</td>\n",
       "      <td>0</td>\n",
       "      <td>3</td>\n",
       "      <td>Johnson, Mr. Malkolm Joackim</td>\n",
       "      <td>male</td>\n",
       "      <td>33.0</td>\n",
       "      <td>0</td>\n",
       "      <td>0</td>\n",
       "      <td>347062</td>\n",
       "      <td>7.775</td>\n",
       "      <td>NaN</td>\n",
       "      <td>S</td>\n",
       "    </tr>\n",
       "    <tr>\n",
       "      <th>167</th>\n",
       "      <td>168</td>\n",
       "      <td>0</td>\n",
       "      <td>3</td>\n",
       "      <td>Skoog, Mrs. William (Anna Bernhardina Karlsson)</td>\n",
       "      <td>female</td>\n",
       "      <td>45.0</td>\n",
       "      <td>1</td>\n",
       "      <td>4</td>\n",
       "      <td>347088</td>\n",
       "      <td>27.900</td>\n",
       "      <td>NaN</td>\n",
       "      <td>S</td>\n",
       "    </tr>\n",
       "    <tr>\n",
       "      <th>372</th>\n",
       "      <td>373</td>\n",
       "      <td>0</td>\n",
       "      <td>3</td>\n",
       "      <td>Beavan, Mr. William Thomas</td>\n",
       "      <td>male</td>\n",
       "      <td>19.0</td>\n",
       "      <td>0</td>\n",
       "      <td>0</td>\n",
       "      <td>323951</td>\n",
       "      <td>8.050</td>\n",
       "      <td>NaN</td>\n",
       "      <td>S</td>\n",
       "    </tr>\n",
       "    <tr>\n",
       "      <th>759</th>\n",
       "      <td>760</td>\n",
       "      <td>1</td>\n",
       "      <td>1</td>\n",
       "      <td>Rothes, the Countess. of (Lucy Noel Martha Dye...</td>\n",
       "      <td>female</td>\n",
       "      <td>33.0</td>\n",
       "      <td>0</td>\n",
       "      <td>0</td>\n",
       "      <td>110152</td>\n",
       "      <td>86.500</td>\n",
       "      <td>B77</td>\n",
       "      <td>S</td>\n",
       "    </tr>\n",
       "    <tr>\n",
       "      <th>576</th>\n",
       "      <td>577</td>\n",
       "      <td>1</td>\n",
       "      <td>2</td>\n",
       "      <td>Garside, Miss. Ethel</td>\n",
       "      <td>female</td>\n",
       "      <td>34.0</td>\n",
       "      <td>0</td>\n",
       "      <td>0</td>\n",
       "      <td>243880</td>\n",
       "      <td>13.000</td>\n",
       "      <td>NaN</td>\n",
       "      <td>S</td>\n",
       "    </tr>\n",
       "  </tbody>\n",
       "</table>\n",
       "</div>"
      ],
      "text/plain": [
       "     PassengerId  Survived  Pclass  \\\n",
       "719          720         0       3   \n",
       "167          168         0       3   \n",
       "372          373         0       3   \n",
       "759          760         1       1   \n",
       "576          577         1       2   \n",
       "\n",
       "                                                  Name     Sex   Age  SibSp  \\\n",
       "719                       Johnson, Mr. Malkolm Joackim    male  33.0      0   \n",
       "167    Skoog, Mrs. William (Anna Bernhardina Karlsson)  female  45.0      1   \n",
       "372                         Beavan, Mr. William Thomas    male  19.0      0   \n",
       "759  Rothes, the Countess. of (Lucy Noel Martha Dye...  female  33.0      0   \n",
       "576                               Garside, Miss. Ethel  female  34.0      0   \n",
       "\n",
       "     Parch  Ticket    Fare Cabin Embarked  \n",
       "719      0  347062   7.775   NaN        S  \n",
       "167      4  347088  27.900   NaN        S  \n",
       "372      0  323951   8.050   NaN        S  \n",
       "759      0  110152  86.500   B77        S  \n",
       "576      0  243880  13.000   NaN        S  "
      ]
     },
     "execution_count": 3,
     "metadata": {},
     "output_type": "execute_result"
    }
   ],
   "source": [
    "# preview the data\n",
    "train_data.head()\n",
    "train_data.sample(5)"
   ]
  },
  {
   "cell_type": "code",
   "execution_count": 4,
   "id": "c44757ea",
   "metadata": {
    "_kg_hide-input": true,
    "execution": {
     "iopub.execute_input": "2023-05-23T01:53:36.783267Z",
     "iopub.status.busy": "2023-05-23T01:53:36.779726Z",
     "iopub.status.idle": "2023-05-23T01:53:36.786762Z",
     "shell.execute_reply": "2023-05-23T01:53:36.787351Z",
     "shell.execute_reply.started": "2022-02-10T13:45:05.482104Z"
    },
    "papermill": {
     "duration": 0.078475,
     "end_time": "2023-05-23T01:53:36.787537",
     "exception": false,
     "start_time": "2023-05-23T01:53:36.709062",
     "status": "completed"
    },
    "tags": []
   },
   "outputs": [
    {
     "name": "stdout",
     "output_type": "stream",
     "text": [
      "<class 'pandas.core.frame.DataFrame'>\n",
      "RangeIndex: 891 entries, 0 to 890\n",
      "Data columns (total 12 columns):\n",
      " #   Column       Non-Null Count  Dtype  \n",
      "---  ------       --------------  -----  \n",
      " 0   PassengerId  891 non-null    int64  \n",
      " 1   Survived     891 non-null    int64  \n",
      " 2   Pclass       891 non-null    int64  \n",
      " 3   Name         891 non-null    object \n",
      " 4   Sex          891 non-null    object \n",
      " 5   Age          714 non-null    float64\n",
      " 6   SibSp        891 non-null    int64  \n",
      " 7   Parch        891 non-null    int64  \n",
      " 8   Ticket       891 non-null    object \n",
      " 9   Fare         891 non-null    float64\n",
      " 10  Cabin        204 non-null    object \n",
      " 11  Embarked     889 non-null    object \n",
      "dtypes: float64(2), int64(5), object(5)\n",
      "memory usage: 83.7+ KB\n",
      "<class 'pandas.core.frame.DataFrame'>\n",
      "RangeIndex: 418 entries, 0 to 417\n",
      "Data columns (total 11 columns):\n",
      " #   Column       Non-Null Count  Dtype  \n",
      "---  ------       --------------  -----  \n",
      " 0   PassengerId  418 non-null    int64  \n",
      " 1   Pclass       418 non-null    int64  \n",
      " 2   Name         418 non-null    object \n",
      " 3   Sex          418 non-null    object \n",
      " 4   Age          332 non-null    float64\n",
      " 5   SibSp        418 non-null    int64  \n",
      " 6   Parch        418 non-null    int64  \n",
      " 7   Ticket       418 non-null    object \n",
      " 8   Fare         417 non-null    float64\n",
      " 9   Cabin        91 non-null     object \n",
      " 10  Embarked     418 non-null    object \n",
      "dtypes: float64(2), int64(4), object(5)\n",
      "memory usage: 36.0+ KB\n"
     ]
    }
   ],
   "source": [
    "train_data.info()\n",
    "test_df.info()"
   ]
  },
  {
   "cell_type": "code",
   "execution_count": 5,
   "id": "2d12b9f9",
   "metadata": {
    "_kg_hide-input": true,
    "execution": {
     "iopub.execute_input": "2023-05-23T01:53:36.885680Z",
     "iopub.status.busy": "2023-05-23T01:53:36.885018Z",
     "iopub.status.idle": "2023-05-23T01:53:36.916575Z",
     "shell.execute_reply": "2023-05-23T01:53:36.916013Z",
     "shell.execute_reply.started": "2022-02-10T13:45:05.510605Z"
    },
    "papermill": {
     "duration": 0.083534,
     "end_time": "2023-05-23T01:53:36.916733",
     "exception": false,
     "start_time": "2023-05-23T01:53:36.833199",
     "status": "completed"
    },
    "tags": []
   },
   "outputs": [
    {
     "data": {
      "text/html": [
       "<div>\n",
       "<style scoped>\n",
       "    .dataframe tbody tr th:only-of-type {\n",
       "        vertical-align: middle;\n",
       "    }\n",
       "\n",
       "    .dataframe tbody tr th {\n",
       "        vertical-align: top;\n",
       "    }\n",
       "\n",
       "    .dataframe thead th {\n",
       "        text-align: right;\n",
       "    }\n",
       "</style>\n",
       "<table border=\"1\" class=\"dataframe\">\n",
       "  <thead>\n",
       "    <tr style=\"text-align: right;\">\n",
       "      <th></th>\n",
       "      <th>PassengerId</th>\n",
       "      <th>Survived</th>\n",
       "      <th>Pclass</th>\n",
       "      <th>Age</th>\n",
       "      <th>SibSp</th>\n",
       "      <th>Parch</th>\n",
       "      <th>Fare</th>\n",
       "    </tr>\n",
       "  </thead>\n",
       "  <tbody>\n",
       "    <tr>\n",
       "      <th>count</th>\n",
       "      <td>891.000000</td>\n",
       "      <td>891.000000</td>\n",
       "      <td>891.000000</td>\n",
       "      <td>714.000000</td>\n",
       "      <td>891.000000</td>\n",
       "      <td>891.000000</td>\n",
       "      <td>891.000000</td>\n",
       "    </tr>\n",
       "    <tr>\n",
       "      <th>mean</th>\n",
       "      <td>446.000000</td>\n",
       "      <td>0.383838</td>\n",
       "      <td>2.308642</td>\n",
       "      <td>29.699118</td>\n",
       "      <td>0.523008</td>\n",
       "      <td>0.381594</td>\n",
       "      <td>32.204208</td>\n",
       "    </tr>\n",
       "    <tr>\n",
       "      <th>std</th>\n",
       "      <td>257.353842</td>\n",
       "      <td>0.486592</td>\n",
       "      <td>0.836071</td>\n",
       "      <td>14.526497</td>\n",
       "      <td>1.102743</td>\n",
       "      <td>0.806057</td>\n",
       "      <td>49.693429</td>\n",
       "    </tr>\n",
       "    <tr>\n",
       "      <th>min</th>\n",
       "      <td>1.000000</td>\n",
       "      <td>0.000000</td>\n",
       "      <td>1.000000</td>\n",
       "      <td>0.420000</td>\n",
       "      <td>0.000000</td>\n",
       "      <td>0.000000</td>\n",
       "      <td>0.000000</td>\n",
       "    </tr>\n",
       "    <tr>\n",
       "      <th>25%</th>\n",
       "      <td>223.500000</td>\n",
       "      <td>0.000000</td>\n",
       "      <td>2.000000</td>\n",
       "      <td>20.125000</td>\n",
       "      <td>0.000000</td>\n",
       "      <td>0.000000</td>\n",
       "      <td>7.910400</td>\n",
       "    </tr>\n",
       "    <tr>\n",
       "      <th>50%</th>\n",
       "      <td>446.000000</td>\n",
       "      <td>0.000000</td>\n",
       "      <td>3.000000</td>\n",
       "      <td>28.000000</td>\n",
       "      <td>0.000000</td>\n",
       "      <td>0.000000</td>\n",
       "      <td>14.454200</td>\n",
       "    </tr>\n",
       "    <tr>\n",
       "      <th>75%</th>\n",
       "      <td>668.500000</td>\n",
       "      <td>1.000000</td>\n",
       "      <td>3.000000</td>\n",
       "      <td>38.000000</td>\n",
       "      <td>1.000000</td>\n",
       "      <td>0.000000</td>\n",
       "      <td>31.000000</td>\n",
       "    </tr>\n",
       "    <tr>\n",
       "      <th>max</th>\n",
       "      <td>891.000000</td>\n",
       "      <td>1.000000</td>\n",
       "      <td>3.000000</td>\n",
       "      <td>80.000000</td>\n",
       "      <td>8.000000</td>\n",
       "      <td>6.000000</td>\n",
       "      <td>512.329200</td>\n",
       "    </tr>\n",
       "  </tbody>\n",
       "</table>\n",
       "</div>"
      ],
      "text/plain": [
       "       PassengerId    Survived      Pclass         Age       SibSp  \\\n",
       "count   891.000000  891.000000  891.000000  714.000000  891.000000   \n",
       "mean    446.000000    0.383838    2.308642   29.699118    0.523008   \n",
       "std     257.353842    0.486592    0.836071   14.526497    1.102743   \n",
       "min       1.000000    0.000000    1.000000    0.420000    0.000000   \n",
       "25%     223.500000    0.000000    2.000000   20.125000    0.000000   \n",
       "50%     446.000000    0.000000    3.000000   28.000000    0.000000   \n",
       "75%     668.500000    1.000000    3.000000   38.000000    1.000000   \n",
       "max     891.000000    1.000000    3.000000   80.000000    8.000000   \n",
       "\n",
       "            Parch        Fare  \n",
       "count  891.000000  891.000000  \n",
       "mean     0.381594   32.204208  \n",
       "std      0.806057   49.693429  \n",
       "min      0.000000    0.000000  \n",
       "25%      0.000000    7.910400  \n",
       "50%      0.000000   14.454200  \n",
       "75%      0.000000   31.000000  \n",
       "max      6.000000  512.329200  "
      ]
     },
     "execution_count": 5,
     "metadata": {},
     "output_type": "execute_result"
    }
   ],
   "source": [
    "train_data.describe()"
   ]
  },
  {
   "cell_type": "markdown",
   "id": "5641d6a0",
   "metadata": {
    "execution": {
     "iopub.execute_input": "2021-09-01T22:29:33.875522Z",
     "iopub.status.busy": "2021-09-01T22:29:33.874887Z",
     "iopub.status.idle": "2021-09-01T22:29:33.879651Z",
     "shell.execute_reply": "2021-09-01T22:29:33.878682Z",
     "shell.execute_reply.started": "2021-09-01T22:29:33.875455Z"
    },
    "papermill": {
     "duration": 0.045357,
     "end_time": "2023-05-23T01:53:37.013942",
     "exception": false,
     "start_time": "2023-05-23T01:53:36.968585",
     "status": "completed"
    },
    "tags": []
   },
   "source": [
    "# Data Cleaning"
   ]
  },
  {
   "cell_type": "code",
   "execution_count": 6,
   "id": "d780ebff",
   "metadata": {
    "_kg_hide-input": true,
    "execution": {
     "iopub.execute_input": "2023-05-23T01:53:37.112340Z",
     "iopub.status.busy": "2023-05-23T01:53:37.111644Z",
     "iopub.status.idle": "2023-05-23T01:53:37.117949Z",
     "shell.execute_reply": "2023-05-23T01:53:37.117473Z",
     "shell.execute_reply.started": "2022-02-10T13:45:05.541788Z"
    },
    "papermill": {
     "duration": 0.059349,
     "end_time": "2023-05-23T01:53:37.118079",
     "exception": false,
     "start_time": "2023-05-23T01:53:37.058730",
     "status": "completed"
    },
    "tags": []
   },
   "outputs": [
    {
     "data": {
      "text/plain": [
       "PassengerId      0\n",
       "Survived         0\n",
       "Pclass           0\n",
       "Name             0\n",
       "Sex              0\n",
       "Age            177\n",
       "SibSp            0\n",
       "Parch            0\n",
       "Ticket           0\n",
       "Fare             0\n",
       "Cabin          687\n",
       "Embarked         2\n",
       "dtype: int64"
      ]
     },
     "execution_count": 6,
     "metadata": {},
     "output_type": "execute_result"
    }
   ],
   "source": [
    "train_data.isnull().sum()"
   ]
  },
  {
   "cell_type": "code",
   "execution_count": 7,
   "id": "80e91f4b",
   "metadata": {
    "_kg_hide-input": true,
    "execution": {
     "iopub.execute_input": "2023-05-23T01:53:37.224239Z",
     "iopub.status.busy": "2023-05-23T01:53:37.223625Z",
     "iopub.status.idle": "2023-05-23T01:53:37.229196Z",
     "shell.execute_reply": "2023-05-23T01:53:37.228734Z",
     "shell.execute_reply.started": "2022-02-10T13:45:05.551710Z"
    },
    "papermill": {
     "duration": 0.06529,
     "end_time": "2023-05-23T01:53:37.229343",
     "exception": false,
     "start_time": "2023-05-23T01:53:37.164053",
     "status": "completed"
    },
    "tags": []
   },
   "outputs": [
    {
     "data": {
      "text/plain": [
       "PassengerId    0\n",
       "Survived       0\n",
       "Pclass         0\n",
       "Name           0\n",
       "Sex            0\n",
       "Age            0\n",
       "SibSp          0\n",
       "Parch          0\n",
       "Ticket         0\n",
       "Fare           0\n",
       "Embarked       2\n",
       "dtype: int64"
      ]
     },
     "execution_count": 7,
     "metadata": {},
     "output_type": "execute_result"
    }
   ],
   "source": [
    "# Cleaning empty cells\n",
    "train_data.drop(columns='Cabin',inplace=True)\n",
    "train_data['Age'].fillna(train_data['Age'].mean(),inplace=True)\n",
    "test_df.drop(columns='Cabin',inplace=True)\n",
    "test_df['Age'].fillna(train_data['Age'].mean(),inplace=True)\n",
    "test_df['Fare'].fillna(test_df['Fare'].mean(),inplace=True)\n",
    "train_data.isna().sum()"
   ]
  },
  {
   "cell_type": "code",
   "execution_count": 8,
   "id": "9ce1ed72",
   "metadata": {
    "_kg_hide-input": true,
    "execution": {
     "iopub.execute_input": "2023-05-23T01:53:37.329308Z",
     "iopub.status.busy": "2023-05-23T01:53:37.328409Z",
     "iopub.status.idle": "2023-05-23T01:53:37.330698Z",
     "shell.execute_reply": "2023-05-23T01:53:37.331308Z",
     "shell.execute_reply.started": "2022-02-10T13:45:05.571178Z"
    },
    "papermill": {
     "duration": 0.05601,
     "end_time": "2023-05-23T01:53:37.331503",
     "exception": false,
     "start_time": "2023-05-23T01:53:37.275493",
     "status": "completed"
    },
    "tags": []
   },
   "outputs": [],
   "source": [
    "#let's drop few more columns which doesn't have any impact in our prediction\n",
    "train_data.drop(columns=[\"Name\",\"Ticket\",'PassengerId'],inplace=True)\n",
    "train_data\n",
    "test_data=test_df.drop(columns=[\"Name\",\"Ticket\",'PassengerId'])"
   ]
  },
  {
   "cell_type": "code",
   "execution_count": 9,
   "id": "96ef01b5",
   "metadata": {
    "_kg_hide-input": true,
    "execution": {
     "iopub.execute_input": "2023-05-23T01:53:37.431405Z",
     "iopub.status.busy": "2023-05-23T01:53:37.429990Z",
     "iopub.status.idle": "2023-05-23T01:53:37.438723Z",
     "shell.execute_reply": "2023-05-23T01:53:37.438026Z",
     "shell.execute_reply.started": "2022-02-10T13:45:05.580475Z"
    },
    "papermill": {
     "duration": 0.0617,
     "end_time": "2023-05-23T01:53:37.438871",
     "exception": false,
     "start_time": "2023-05-23T01:53:37.377171",
     "status": "completed"
    },
    "tags": []
   },
   "outputs": [
    {
     "data": {
      "text/plain": [
       "111"
      ]
     },
     "execution_count": 9,
     "metadata": {},
     "output_type": "execute_result"
    }
   ],
   "source": [
    "train_data.duplicated().sum()"
   ]
  },
  {
   "cell_type": "code",
   "execution_count": 10,
   "id": "3de75d13",
   "metadata": {
    "_kg_hide-input": true,
    "execution": {
     "iopub.execute_input": "2023-05-23T01:53:37.534866Z",
     "iopub.status.busy": "2023-05-23T01:53:37.534283Z",
     "iopub.status.idle": "2023-05-23T01:53:37.774801Z",
     "shell.execute_reply": "2023-05-23T01:53:37.775282Z",
     "shell.execute_reply.started": "2022-02-10T13:45:05.593842Z"
    },
    "papermill": {
     "duration": 0.290613,
     "end_time": "2023-05-23T01:53:37.775473",
     "exception": false,
     "start_time": "2023-05-23T01:53:37.484860",
     "status": "completed"
    },
    "tags": []
   },
   "outputs": [
    {
     "data": {
      "text/plain": [
       "<AxesSubplot:>"
      ]
     },
     "execution_count": 10,
     "metadata": {},
     "output_type": "execute_result"
    },
    {
     "data": {
      "image/png": "[encoded data removed]",
      "text/plain": [
       "<Figure size 720x576 with 1 Axes>"
      ]
     },
     "metadata": {
      "needs_background": "light"
     },
     "output_type": "display_data"
    }
   ],
   "source": [
    "#checking for outliers\n",
    "train_data.boxplot(column=['Age','SibSp','Parch','Fare'],figsize=(10,8),fontsize=10)"
   ]
  },
  {
   "cell_type": "markdown",
   "id": "711d7001",
   "metadata": {
    "papermill": {
     "duration": 0.046009,
     "end_time": "2023-05-23T01:53:37.868393",
     "exception": false,
     "start_time": "2023-05-23T01:53:37.822384",
     "status": "completed"
    },
    "tags": []
   },
   "source": [
    "# Exploratory Data Analysis"
   ]
  },
  {
   "cell_type": "code",
   "execution_count": 11,
   "id": "faed89af",
   "metadata": {
    "_kg_hide-input": true,
    "execution": {
     "iopub.execute_input": "2023-05-23T01:53:37.996570Z",
     "iopub.status.busy": "2023-05-23T01:53:37.993784Z",
     "iopub.status.idle": "2023-05-23T01:53:38.227678Z",
     "shell.execute_reply": "2023-05-23T01:53:38.228131Z",
     "shell.execute_reply.started": "2022-02-10T13:45:05.809080Z"
    },
    "papermill": {
     "duration": 0.313341,
     "end_time": "2023-05-23T01:53:38.228322",
     "exception": false,
     "start_time": "2023-05-23T01:53:37.914981",
     "status": "completed"
    },
    "tags": []
   },
   "outputs": [
    {
     "data": {
      "image/png": "[encoded data removed]",
      "text/plain": [
       "<Figure size 864x576 with 1 Axes>"
      ]
     },
     "metadata": {
      "needs_background": "light"
     },
     "output_type": "display_data"
    }
   ],
   "source": [
    "plt.figure(figsize=(12,8))\n",
    "plt.hist(train_data['Age'])\n",
    "plt.title('Age')\n",
    "plt.show()"
   ]
  },
  {
   "cell_type": "code",
   "execution_count": 12,
   "id": "8e406742",
   "metadata": {
    "_kg_hide-input": true,
    "execution": {
     "iopub.execute_input": "2023-05-23T01:53:38.450704Z",
     "iopub.status.busy": "2023-05-23T01:53:38.449740Z",
     "iopub.status.idle": "2023-05-23T01:53:38.591242Z",
     "shell.execute_reply": "2023-05-23T01:53:38.591826Z",
     "shell.execute_reply.started": "2022-02-10T13:45:05.966750Z"
    },
    "papermill": {
     "duration": 0.316383,
     "end_time": "2023-05-23T01:53:38.592020",
     "exception": false,
     "start_time": "2023-05-23T01:53:38.275637",
     "status": "completed"
    },
    "tags": []
   },
   "outputs": [
    {
     "data": {
      "image/png": "[encoded data removed]",
      "text/plain": [
       "<Figure size 864x576 with 1 Axes>"
      ]
     },
     "metadata": {
      "needs_background": "light"
     },
     "output_type": "display_data"
    }
   ],
   "source": [
    "plt.figure(figsize=(12,8))\n",
    "plt.hist(train_data['Fare'])\n",
    "plt.title('Fare',size=20)\n",
    "plt.show()"
   ]
  },
  {
   "cell_type": "code",
   "execution_count": 13,
   "id": "6965115f",
   "metadata": {
    "_kg_hide-input": true,
    "execution": {
     "iopub.execute_input": "2023-05-23T01:53:38.694407Z",
     "iopub.status.busy": "2023-05-23T01:53:38.693517Z",
     "iopub.status.idle": "2023-05-23T01:53:38.701275Z",
     "shell.execute_reply": "2023-05-23T01:53:38.701821Z",
     "shell.execute_reply.started": "2022-02-10T13:45:06.198455Z"
    },
    "papermill": {
     "duration": 0.062222,
     "end_time": "2023-05-23T01:53:38.701997",
     "exception": false,
     "start_time": "2023-05-23T01:53:38.639775",
     "status": "completed"
    },
    "tags": []
   },
   "outputs": [
    {
     "data": {
      "text/plain": [
       "Pclass  Embarked\n",
       "1       S           127\n",
       "        C            85\n",
       "        Q             2\n",
       "2       S           164\n",
       "        C            17\n",
       "        Q             3\n",
       "3       S           353\n",
       "        Q            72\n",
       "        C            66\n",
       "Name: Embarked, dtype: int64"
      ]
     },
     "execution_count": 13,
     "metadata": {},
     "output_type": "execute_result"
    }
   ],
   "source": [
    "train_data.groupby(\"Pclass\")[\"Embarked\"].value_counts()"
   ]
  },
  {
   "cell_type": "code",
   "execution_count": 14,
   "id": "952366fc",
   "metadata": {
    "_kg_hide-input": true,
    "execution": {
     "iopub.execute_input": "2023-05-23T01:53:38.833449Z",
     "iopub.status.busy": "2023-05-23T01:53:38.832314Z",
     "iopub.status.idle": "2023-05-23T01:53:40.629393Z",
     "shell.execute_reply": "2023-05-23T01:53:40.628867Z",
     "shell.execute_reply.started": "2022-02-10T13:45:06.210550Z"
    },
    "papermill": {
     "duration": 1.879453,
     "end_time": "2023-05-23T01:53:40.629535",
     "exception": false,
     "start_time": "2023-05-23T01:53:38.750082",
     "status": "completed"
    },
    "tags": []
   },
   "outputs": [
    {
     "data": {
      "image/png": "[encoded data removed]",
      "text/plain": [
       "<Figure size 720x360 with 1 Axes>"
      ]
     },
     "metadata": {
      "needs_background": "light"
     },
     "output_type": "display_data"
    }
   ],
   "source": [
    "plt.figure(figsize=(10,5))\n",
    "plt.bar(train_data['Pclass'], train_data['Age'])\n",
    "plt.xlabel(\"PCLASS\")\n",
    "plt.ylabel(\"AGE\")\n",
    "plt.title(\"Age in different classes\")\n",
    "plt.show()"
   ]
  },
  {
   "cell_type": "code",
   "execution_count": 15,
   "id": "6bada9a0",
   "metadata": {
    "_kg_hide-input": true,
    "execution": {
     "iopub.execute_input": "2023-05-23T01:53:40.738354Z",
     "iopub.status.busy": "2023-05-23T01:53:40.737702Z",
     "iopub.status.idle": "2023-05-23T01:53:40.865972Z",
     "shell.execute_reply": "2023-05-23T01:53:40.866443Z",
     "shell.execute_reply.started": "2022-02-10T13:45:07.926975Z"
    },
    "papermill": {
     "duration": 0.185829,
     "end_time": "2023-05-23T01:53:40.866613",
     "exception": false,
     "start_time": "2023-05-23T01:53:40.680784",
     "status": "completed"
    },
    "tags": []
   },
   "outputs": [
    {
     "data": {
      "image/png": "[encoded data removed]",
      "text/plain": [
       "<Figure size 864x576 with 1 Axes>"
      ]
     },
     "metadata": {
      "needs_background": "light"
     },
     "output_type": "display_data"
    }
   ],
   "source": [
    "train_data[\"Survived\"].value_counts().plot.bar(color=('green','darkblue'),figsize=(12,8))\n",
    "plt.title(\"Survived\")\n",
    "plt.show()"
   ]
  },
  {
   "cell_type": "code",
   "execution_count": 16,
   "id": "4200a905",
   "metadata": {
    "_kg_hide-input": true,
    "execution": {
     "iopub.execute_input": "2023-05-23T01:53:40.982454Z",
     "iopub.status.busy": "2023-05-23T01:53:40.981427Z",
     "iopub.status.idle": "2023-05-23T01:53:41.087028Z",
     "shell.execute_reply": "2023-05-23T01:53:41.087538Z",
     "shell.execute_reply.started": "2022-02-10T13:45:08.069591Z"
    },
    "papermill": {
     "duration": 0.171356,
     "end_time": "2023-05-23T01:53:41.087707",
     "exception": false,
     "start_time": "2023-05-23T01:53:40.916351",
     "status": "completed"
    },
    "tags": []
   },
   "outputs": [
    {
     "data": {
      "image/png": "[encoded data removed]",
      "text/plain": [
       "<Figure size 432x288 with 1 Axes>"
      ]
     },
     "metadata": {
      "needs_background": "light"
     },
     "output_type": "display_data"
    }
   ],
   "source": [
    "e=train_data.groupby(\"Embarked\")[\"Fare\"].mean()\n",
    "x=[\"C_Embark\",\"Q_Embark\",\"S_Embark\"]\n",
    "y=[e[0],e[1],e[2]]\n",
    "plt.bar(x,y,color=['b','darkorange','g'])\n",
    "plt.xlabel(\"Embarked\",fontsize=(15))\n",
    "plt.ylabel(\"Fare\",fontsize=(15))\n",
    "plt.show()"
   ]
  },
  {
   "cell_type": "code",
   "execution_count": 17,
   "id": "5357ed8c",
   "metadata": {
    "_kg_hide-input": true,
    "execution": {
     "iopub.execute_input": "2023-05-23T01:53:41.196555Z",
     "iopub.status.busy": "2023-05-23T01:53:41.195635Z",
     "iopub.status.idle": "2023-05-23T01:53:41.470036Z",
     "shell.execute_reply": "2023-05-23T01:53:41.470523Z",
     "shell.execute_reply.started": "2022-02-10T13:45:08.215875Z"
    },
    "papermill": {
     "duration": 0.332451,
     "end_time": "2023-05-23T01:53:41.470685",
     "exception": false,
     "start_time": "2023-05-23T01:53:41.138234",
     "status": "completed"
    },
    "tags": []
   },
   "outputs": [
    {
     "data": {
      "text/plain": [
       "Text(0.5, 1.0, 'Survived')"
      ]
     },
     "execution_count": 17,
     "metadata": {},
     "output_type": "execute_result"
    },
    {
     "data": {
      "image/png": "[encoded data removed]",
      "text/plain": [
       "<Figure size 864x576 with 1 Axes>"
      ]
     },
     "metadata": {},
     "output_type": "display_data"
    }
   ],
   "source": [
    "mylabels = [\"Survived female\", \"Dead female\", \"Dead male\", \"survived male\"]\n",
    "train_data.groupby(\"Sex\")[\"Survived\"].value_counts().plot.pie(labels=mylabels,figsize=(12,8),explode=(0.1,0.1,0.1,0.1))\n",
    "plt.title(\"Survived\",fontsize=15)"
   ]
  },
  {
   "cell_type": "code",
   "execution_count": 18,
   "id": "824e5e91",
   "metadata": {
    "_kg_hide-input": true,
    "execution": {
     "iopub.execute_input": "2023-05-23T01:53:41.609693Z",
     "iopub.status.busy": "2023-05-23T01:53:41.608763Z",
     "iopub.status.idle": "2023-05-23T01:53:41.689361Z",
     "shell.execute_reply": "2023-05-23T01:53:41.689848Z",
     "shell.execute_reply.started": "2022-02-10T13:45:08.461948Z"
    },
    "papermill": {
     "duration": 0.167264,
     "end_time": "2023-05-23T01:53:41.690016",
     "exception": false,
     "start_time": "2023-05-23T01:53:41.522752",
     "status": "completed"
    },
    "tags": []
   },
   "outputs": [
    {
     "data": {
      "text/plain": [
       "Text(0.5, 1.0, 'Embarked')"
      ]
     },
     "execution_count": 18,
     "metadata": {},
     "output_type": "execute_result"
    },
    {
     "data": {
      "image/png": "[encoded data removed]",
      "text/plain": [
       "<Figure size 864x576 with 1 Axes>"
      ]
     },
     "metadata": {},
     "output_type": "display_data"
    }
   ],
   "source": [
    "train_data[\"Embarked\"].value_counts().plot.pie(figsize=(12,8),explode=(0.1,0.1,0.1))\n",
    "plt.title(\"Embarked\",fontsize=15)"
   ]
  },
  {
   "cell_type": "code",
   "execution_count": 19,
   "id": "55989a50",
   "metadata": {
    "_kg_hide-input": true,
    "execution": {
     "iopub.execute_input": "2023-05-23T01:53:41.823697Z",
     "iopub.status.busy": "2023-05-23T01:53:41.822720Z",
     "iopub.status.idle": "2023-05-23T01:53:41.909018Z",
     "shell.execute_reply": "2023-05-23T01:53:41.908486Z",
     "shell.execute_reply.started": "2022-02-10T13:45:08.562516Z"
    },
    "papermill": {
     "duration": 0.165338,
     "end_time": "2023-05-23T01:53:41.909165",
     "exception": false,
     "start_time": "2023-05-23T01:53:41.743827",
     "status": "completed"
    },
    "tags": []
   },
   "outputs": [
    {
     "data": {
      "image/png": "[encoded data removed]",
      "text/plain": [
       "<Figure size 864x576 with 1 Axes>"
      ]
     },
     "metadata": {},
     "output_type": "display_data"
    }
   ],
   "source": [
    "x=[\"Pclass-1\",\"Pclass-2\",\"Pclass-3\"]\n",
    "train_data[\"Pclass\"].value_counts().plot.pie(labels=x,figsize=(12,8),explode=(0.1,0.1,0.1))\n",
    "plt.title(\"Percentage of People in different class\",fontsize=15)\n",
    "plt.show()"
   ]
  },
  {
   "cell_type": "code",
   "execution_count": 20,
   "id": "1c5e77ff",
   "metadata": {
    "_kg_hide-input": true,
    "execution": {
     "iopub.execute_input": "2023-05-23T01:53:42.024361Z",
     "iopub.status.busy": "2023-05-23T01:53:42.023464Z",
     "iopub.status.idle": "2023-05-23T01:53:42.030526Z",
     "shell.execute_reply": "2023-05-23T01:53:42.030036Z",
     "shell.execute_reply.started": "2022-02-10T13:45:08.658783Z"
    },
    "papermill": {
     "duration": 0.067012,
     "end_time": "2023-05-23T01:53:42.030689",
     "exception": false,
     "start_time": "2023-05-23T01:53:41.963677",
     "status": "completed"
    },
    "tags": []
   },
   "outputs": [
    {
     "name": "stdout",
     "output_type": "stream",
     "text": [
      "Survived    1.000000\n",
      "Pclass     -0.338481\n",
      "Age        -0.069809\n",
      "SibSp      -0.035322\n",
      "Parch       0.081629\n",
      "Fare        0.257307\n",
      "Name: Survived, dtype: float64 \n",
      "\n",
      "Survived    1.000000\n",
      "Pclass     -0.338481\n",
      "Age        -0.069809\n",
      "SibSp      -0.035322\n",
      "Parch       0.081629\n",
      "Fare        0.257307\n",
      "Name: Survived, dtype: float64\n"
     ]
    }
   ],
   "source": [
    "correlations_data = train_data.corr()['Survived']\n",
    "print(correlations_data.head(15), '\\n')\n",
    "print(correlations_data.tail(15))"
   ]
  },
  {
   "cell_type": "code",
   "execution_count": 21,
   "id": "87c60781",
   "metadata": {
    "_kg_hide-input": true,
    "execution": {
     "iopub.execute_input": "2023-05-23T01:53:42.147070Z",
     "iopub.status.busy": "2023-05-23T01:53:42.146142Z",
     "iopub.status.idle": "2023-05-23T01:53:42.566249Z",
     "shell.execute_reply": "2023-05-23T01:53:42.566736Z",
     "shell.execute_reply.started": "2022-02-10T13:45:08.670519Z"
    },
    "papermill": {
     "duration": 0.479823,
     "end_time": "2023-05-23T01:53:42.566896",
     "exception": false,
     "start_time": "2023-05-23T01:53:42.087073",
     "status": "completed"
    },
    "tags": []
   },
   "outputs": [
    {
     "data": {
      "image/png": "[encoded data removed]",
      "text/plain": [
       "<Figure size 864x360 with 2 Axes>"
      ]
     },
     "metadata": {
      "needs_background": "light"
     },
     "output_type": "display_data"
    }
   ],
   "source": [
    "plt.figure(figsize=(12,5))\n",
    "sns.heatmap(train_data.corr(),annot=True)\n",
    "plt.show()"
   ]
  },
  {
   "cell_type": "markdown",
   "id": "150fd08f",
   "metadata": {
    "papermill": {
     "duration": 0.05538,
     "end_time": "2023-05-23T01:53:42.677541",
     "exception": false,
     "start_time": "2023-05-23T01:53:42.622161",
     "status": "completed"
    },
    "tags": []
   },
   "source": [
    "# Data Prediction"
   ]
  },
  {
   "cell_type": "code",
   "execution_count": 22,
   "id": "5e1245bc",
   "metadata": {
    "execution": {
     "iopub.execute_input": "2023-05-23T01:53:42.796520Z",
     "iopub.status.busy": "2023-05-23T01:53:42.795641Z",
     "iopub.status.idle": "2023-05-23T01:53:42.800868Z",
     "shell.execute_reply": "2023-05-23T01:53:42.800399Z",
     "shell.execute_reply.started": "2022-02-10T13:45:09.065536Z"
    },
    "papermill": {
     "duration": 0.068132,
     "end_time": "2023-05-23T01:53:42.800992",
     "exception": false,
     "start_time": "2023-05-23T01:53:42.732860",
     "status": "completed"
    },
    "tags": []
   },
   "outputs": [],
   "source": [
    "sex=pd.get_dummies(train_data[\"Sex\"],drop_first=True)\n",
    "Embark=pd.get_dummies(train_data[\"Embarked\"],drop_first=True)\n",
    "sex_test=pd.get_dummies(test_data[\"Sex\"],drop_first=True)\n",
    "Embark_test=pd.get_dummies(test_data[\"Embarked\"],drop_first=True)"
   ]
  },
  {
   "cell_type": "code",
   "execution_count": 23,
   "id": "294317fb",
   "metadata": {
    "execution": {
     "iopub.execute_input": "2023-05-23T01:53:42.921771Z",
     "iopub.status.busy": "2023-05-23T01:53:42.920878Z",
     "iopub.status.idle": "2023-05-23T01:53:42.924048Z",
     "shell.execute_reply": "2023-05-23T01:53:42.923581Z",
     "shell.execute_reply.started": "2022-02-10T13:45:09.085947Z"
    },
    "papermill": {
     "duration": 0.064378,
     "end_time": "2023-05-23T01:53:42.924171",
     "exception": false,
     "start_time": "2023-05-23T01:53:42.859793",
     "status": "completed"
    },
    "tags": []
   },
   "outputs": [],
   "source": [
    "train_data.drop(columns=[\"Sex\",\"Embarked\"],axis=1,inplace=True)\n",
    "train_data\n",
    "test_data.drop(columns=['Sex','Embarked'],inplace=True)"
   ]
  },
  {
   "cell_type": "code",
   "execution_count": 24,
   "id": "431aea1c",
   "metadata": {
    "execution": {
     "iopub.execute_input": "2023-05-23T01:53:43.053093Z",
     "iopub.status.busy": "2023-05-23T01:53:43.052096Z",
     "iopub.status.idle": "2023-05-23T01:53:43.055768Z",
     "shell.execute_reply": "2023-05-23T01:53:43.056236Z",
     "shell.execute_reply.started": "2022-02-10T13:45:09.099431Z"
    },
    "papermill": {
     "duration": 0.07729,
     "end_time": "2023-05-23T01:53:43.056426",
     "exception": false,
     "start_time": "2023-05-23T01:53:42.979136",
     "status": "completed"
    },
    "tags": []
   },
   "outputs": [
    {
     "name": "stdout",
     "output_type": "stream",
     "text": [
      "<class 'pandas.core.frame.DataFrame'>\n",
      "RangeIndex: 418 entries, 0 to 417\n",
      "Data columns (total 8 columns):\n",
      " #   Column  Non-Null Count  Dtype  \n",
      "---  ------  --------------  -----  \n",
      " 0   Pclass  418 non-null    int64  \n",
      " 1   Age     418 non-null    float64\n",
      " 2   SibSp   418 non-null    int64  \n",
      " 3   Parch   418 non-null    int64  \n",
      " 4   Fare    418 non-null    float64\n",
      " 5   male    418 non-null    uint8  \n",
      " 6   Q       418 non-null    uint8  \n",
      " 7   S       418 non-null    uint8  \n",
      "dtypes: float64(2), int64(3), uint8(3)\n",
      "memory usage: 17.7 KB\n"
     ]
    }
   ],
   "source": [
    "train_data=pd.concat([train_data,sex,Embark],axis=1)\n",
    "train_data\n",
    "test_data=pd.concat([test_data,sex_test,Embark_test],axis=1)\n",
    "test_data.info()"
   ]
  },
  {
   "cell_type": "code",
   "execution_count": 25,
   "id": "19c90541",
   "metadata": {
    "execution": {
     "iopub.execute_input": "2023-05-23T01:53:43.178123Z",
     "iopub.status.busy": "2023-05-23T01:53:43.177178Z",
     "iopub.status.idle": "2023-05-23T01:53:43.200734Z",
     "shell.execute_reply": "2023-05-23T01:53:43.201169Z",
     "shell.execute_reply.started": "2022-02-10T13:45:09.124808Z"
    },
    "papermill": {
     "duration": 0.08749,
     "end_time": "2023-05-23T01:53:43.201393",
     "exception": false,
     "start_time": "2023-05-23T01:53:43.113903",
     "status": "completed"
    },
    "tags": []
   },
   "outputs": [
    {
     "name": "stdout",
     "output_type": "stream",
     "text": [
      "(623, 8)\n",
      "(268, 8)\n",
      "(623,)\n",
      "(268,)\n"
     ]
    },
    {
     "data": {
      "text/html": [
       "<div>\n",
       "<style scoped>\n",
       "    .dataframe tbody tr th:only-of-type {\n",
       "        vertical-align: middle;\n",
       "    }\n",
       "\n",
       "    .dataframe tbody tr th {\n",
       "        vertical-align: top;\n",
       "    }\n",
       "\n",
       "    .dataframe thead th {\n",
       "        text-align: right;\n",
       "    }\n",
       "</style>\n",
       "<table border=\"1\" class=\"dataframe\">\n",
       "  <thead>\n",
       "    <tr style=\"text-align: right;\">\n",
       "      <th></th>\n",
       "      <th>Pclass</th>\n",
       "      <th>Age</th>\n",
       "      <th>SibSp</th>\n",
       "      <th>Parch</th>\n",
       "      <th>Fare</th>\n",
       "      <th>male</th>\n",
       "      <th>Q</th>\n",
       "      <th>S</th>\n",
       "    </tr>\n",
       "  </thead>\n",
       "  <tbody>\n",
       "    <tr>\n",
       "      <th>445</th>\n",
       "      <td>1</td>\n",
       "      <td>4.000000</td>\n",
       "      <td>0</td>\n",
       "      <td>2</td>\n",
       "      <td>81.8583</td>\n",
       "      <td>1</td>\n",
       "      <td>0</td>\n",
       "      <td>1</td>\n",
       "    </tr>\n",
       "    <tr>\n",
       "      <th>650</th>\n",
       "      <td>3</td>\n",
       "      <td>29.699118</td>\n",
       "      <td>0</td>\n",
       "      <td>0</td>\n",
       "      <td>7.8958</td>\n",
       "      <td>1</td>\n",
       "      <td>0</td>\n",
       "      <td>1</td>\n",
       "    </tr>\n",
       "    <tr>\n",
       "      <th>172</th>\n",
       "      <td>3</td>\n",
       "      <td>1.000000</td>\n",
       "      <td>1</td>\n",
       "      <td>1</td>\n",
       "      <td>11.1333</td>\n",
       "      <td>0</td>\n",
       "      <td>0</td>\n",
       "      <td>1</td>\n",
       "    </tr>\n",
       "    <tr>\n",
       "      <th>450</th>\n",
       "      <td>2</td>\n",
       "      <td>36.000000</td>\n",
       "      <td>1</td>\n",
       "      <td>2</td>\n",
       "      <td>27.7500</td>\n",
       "      <td>1</td>\n",
       "      <td>0</td>\n",
       "      <td>1</td>\n",
       "    </tr>\n",
       "    <tr>\n",
       "      <th>314</th>\n",
       "      <td>2</td>\n",
       "      <td>43.000000</td>\n",
       "      <td>1</td>\n",
       "      <td>1</td>\n",
       "      <td>26.2500</td>\n",
       "      <td>1</td>\n",
       "      <td>0</td>\n",
       "      <td>1</td>\n",
       "    </tr>\n",
       "    <tr>\n",
       "      <th>...</th>\n",
       "      <td>...</td>\n",
       "      <td>...</td>\n",
       "      <td>...</td>\n",
       "      <td>...</td>\n",
       "      <td>...</td>\n",
       "      <td>...</td>\n",
       "      <td>...</td>\n",
       "      <td>...</td>\n",
       "    </tr>\n",
       "    <tr>\n",
       "      <th>106</th>\n",
       "      <td>3</td>\n",
       "      <td>21.000000</td>\n",
       "      <td>0</td>\n",
       "      <td>0</td>\n",
       "      <td>7.6500</td>\n",
       "      <td>0</td>\n",
       "      <td>0</td>\n",
       "      <td>1</td>\n",
       "    </tr>\n",
       "    <tr>\n",
       "      <th>270</th>\n",
       "      <td>1</td>\n",
       "      <td>29.699118</td>\n",
       "      <td>0</td>\n",
       "      <td>0</td>\n",
       "      <td>31.0000</td>\n",
       "      <td>1</td>\n",
       "      <td>0</td>\n",
       "      <td>1</td>\n",
       "    </tr>\n",
       "    <tr>\n",
       "      <th>860</th>\n",
       "      <td>3</td>\n",
       "      <td>41.000000</td>\n",
       "      <td>2</td>\n",
       "      <td>0</td>\n",
       "      <td>14.1083</td>\n",
       "      <td>1</td>\n",
       "      <td>0</td>\n",
       "      <td>1</td>\n",
       "    </tr>\n",
       "    <tr>\n",
       "      <th>435</th>\n",
       "      <td>1</td>\n",
       "      <td>14.000000</td>\n",
       "      <td>1</td>\n",
       "      <td>2</td>\n",
       "      <td>120.0000</td>\n",
       "      <td>0</td>\n",
       "      <td>0</td>\n",
       "      <td>1</td>\n",
       "    </tr>\n",
       "    <tr>\n",
       "      <th>102</th>\n",
       "      <td>1</td>\n",
       "      <td>21.000000</td>\n",
       "      <td>0</td>\n",
       "      <td>1</td>\n",
       "      <td>77.2875</td>\n",
       "      <td>1</td>\n",
       "      <td>0</td>\n",
       "      <td>1</td>\n",
       "    </tr>\n",
       "  </tbody>\n",
       "</table>\n",
       "<p>623 rows × 8 columns</p>\n",
       "</div>"
      ],
      "text/plain": [
       "     Pclass        Age  SibSp  Parch      Fare  male  Q  S\n",
       "445       1   4.000000      0      2   81.8583     1  0  1\n",
       "650       3  29.699118      0      0    7.8958     1  0  1\n",
       "172       3   1.000000      1      1   11.1333     0  0  1\n",
       "450       2  36.000000      1      2   27.7500     1  0  1\n",
       "314       2  43.000000      1      1   26.2500     1  0  1\n",
       "..      ...        ...    ...    ...       ...   ... .. ..\n",
       "106       3  21.000000      0      0    7.6500     0  0  1\n",
       "270       1  29.699118      0      0   31.0000     1  0  1\n",
       "860       3  41.000000      2      0   14.1083     1  0  1\n",
       "435       1  14.000000      1      2  120.0000     0  0  1\n",
       "102       1  21.000000      0      1   77.2875     1  0  1\n",
       "\n",
       "[623 rows x 8 columns]"
      ]
     },
     "execution_count": 25,
     "metadata": {},
     "output_type": "execute_result"
    }
   ],
   "source": [
    "# Separate out the features and targets\n",
    "features=train_data.iloc[:,1:]\n",
    "targets=train_data.iloc[:,0]\n",
    "\n",
    "# Split into 70% training and 30% testing set\n",
    "x_train, x_test, y_train, y_test = train_test_split(features, targets, test_size = 0.3, random_state = 42)\n",
    "\n",
    "print(x_train.shape)\n",
    "print(x_test.shape)\n",
    "print(y_train.shape)\n",
    "print(y_test.shape)\n",
    "x_train"
   ]
  },
  {
   "cell_type": "code",
   "execution_count": 26,
   "id": "082d875a",
   "metadata": {
    "execution": {
     "iopub.execute_input": "2023-05-23T01:53:43.326250Z",
     "iopub.status.busy": "2023-05-23T01:53:43.325365Z",
     "iopub.status.idle": "2023-05-23T01:53:43.336531Z",
     "shell.execute_reply": "2023-05-23T01:53:43.335996Z",
     "shell.execute_reply.started": "2022-02-10T13:45:09.174562Z"
    },
    "papermill": {
     "duration": 0.075036,
     "end_time": "2023-05-23T01:53:43.336656",
     "exception": false,
     "start_time": "2023-05-23T01:53:43.261620",
     "status": "completed"
    },
    "tags": []
   },
   "outputs": [
    {
     "name": "stdout",
     "output_type": "stream",
     "text": [
      "     Actual  pred\n",
      "709       1     0\n",
      "439       0     0\n",
      "840       0     0\n",
      "720       1     1\n",
      "39        1     1\n",
      "..      ...   ...\n",
      "821       1     0\n",
      "633       0     0\n",
      "456       0     0\n",
      "500       0     0\n",
      "430       1     0\n",
      "\n",
      "[268 rows x 2 columns]\n"
     ]
    }
   ],
   "source": [
    "\n",
    "#Create a Gaussian Classifier\n",
    "model = GaussianNB()\n",
    "\n",
    "# Train the model using the training sets\n",
    "model.fit(x_train,y_train)\n",
    "\n",
    "#Predict Output\n",
    "predicted= model.predict(x_test)\n",
    "pred_df=pd.DataFrame({\"Actual\":y_test,\"pred\":predicted})\n",
    "acc_gaussian=accuracy_score(y_test,predicted) * 100\n",
    "print(pred_df)"
   ]
  },
  {
   "cell_type": "code",
   "execution_count": 27,
   "id": "f659abc6",
   "metadata": {
    "execution": {
     "iopub.execute_input": "2023-05-23T01:53:43.459873Z",
     "iopub.status.busy": "2023-05-23T01:53:43.456701Z",
     "iopub.status.idle": "2023-05-23T01:53:43.464973Z",
     "shell.execute_reply": "2023-05-23T01:53:43.465511Z",
     "shell.execute_reply.started": "2022-02-10T13:45:09.209934Z"
    },
    "papermill": {
     "duration": 0.070498,
     "end_time": "2023-05-23T01:53:43.465664",
     "exception": false,
     "start_time": "2023-05-23T01:53:43.395166",
     "status": "completed"
    },
    "tags": []
   },
   "outputs": [
    {
     "name": "stdout",
     "output_type": "stream",
     "text": [
      "GuassianNB report \n",
      "               precision    recall  f1-score   support\n",
      "\n",
      "           0       0.82      0.83      0.83       157\n",
      "           1       0.75      0.75      0.75       111\n",
      "\n",
      "    accuracy                           0.79       268\n",
      "   macro avg       0.79      0.79      0.79       268\n",
      "weighted avg       0.79      0.79      0.79       268\n",
      "\n"
     ]
    }
   ],
   "source": [
    "report=classification_report(y_test,predicted)\n",
    "print(\"GuassianNB report \\n\",report)"
   ]
  },
  {
   "cell_type": "code",
   "execution_count": 28,
   "id": "d4b055dc",
   "metadata": {
    "execution": {
     "iopub.execute_input": "2023-05-23T01:53:43.588080Z",
     "iopub.status.busy": "2023-05-23T01:53:43.587499Z",
     "iopub.status.idle": "2023-05-23T01:53:43.609177Z",
     "shell.execute_reply": "2023-05-23T01:53:43.609709Z",
     "shell.execute_reply.started": "2022-02-10T13:45:09.231373Z"
    },
    "papermill": {
     "duration": 0.087092,
     "end_time": "2023-05-23T01:53:43.609855",
     "exception": false,
     "start_time": "2023-05-23T01:53:43.522763",
     "status": "completed"
    },
    "tags": []
   },
   "outputs": [
    {
     "name": "stdout",
     "output_type": "stream",
     "text": [
      "     Actual  pred\n",
      "709       1     0\n",
      "439       0     0\n",
      "840       0     0\n",
      "720       1     1\n",
      "39        1     0\n",
      "..      ...   ...\n",
      "821       1     1\n",
      "633       0     0\n",
      "456       0     0\n",
      "500       0     0\n",
      "430       1     0\n",
      "\n",
      "[268 rows x 2 columns]\n"
     ]
    }
   ],
   "source": [
    "model = KNeighborsClassifier(n_neighbors=3)\n",
    "\n",
    "# Train the model using the training sets\n",
    "model.fit(x_train,y_train)\n",
    "\n",
    "#Predict Output\n",
    "predicted= model.predict(x_test)\n",
    "pred_df=pd.DataFrame({\"Actual\":y_test,\"pred\":predicted})\n",
    "acc_knn=accuracy_score(y_test,predicted) * 100\n",
    "print(pred_df)"
   ]
  },
  {
   "cell_type": "code",
   "execution_count": 29,
   "id": "9b5378b9",
   "metadata": {
    "execution": {
     "iopub.execute_input": "2023-05-23T01:53:43.733204Z",
     "iopub.status.busy": "2023-05-23T01:53:43.732250Z",
     "iopub.status.idle": "2023-05-23T01:53:43.741273Z",
     "shell.execute_reply": "2023-05-23T01:53:43.740758Z",
     "shell.execute_reply.started": "2022-02-10T13:45:09.268599Z"
    },
    "papermill": {
     "duration": 0.071569,
     "end_time": "2023-05-23T01:53:43.741476",
     "exception": false,
     "start_time": "2023-05-23T01:53:43.669907",
     "status": "completed"
    },
    "tags": []
   },
   "outputs": [
    {
     "name": "stdout",
     "output_type": "stream",
     "text": [
      "KNN report \n",
      "               precision    recall  f1-score   support\n",
      "\n",
      "           0       0.70      0.84      0.76       157\n",
      "           1       0.68      0.49      0.57       111\n",
      "\n",
      "    accuracy                           0.69       268\n",
      "   macro avg       0.69      0.66      0.67       268\n",
      "weighted avg       0.69      0.69      0.68       268\n",
      "\n"
     ]
    }
   ],
   "source": [
    "report=classification_report(y_test,predicted)\n",
    "print(\"KNN report \\n\",report)"
   ]
  },
  {
   "cell_type": "code",
   "execution_count": 30,
   "id": "9e69f61f",
   "metadata": {
    "execution": {
     "iopub.execute_input": "2023-05-23T01:53:43.863646Z",
     "iopub.status.busy": "2023-05-23T01:53:43.862942Z",
     "iopub.status.idle": "2023-05-23T01:53:43.870135Z",
     "shell.execute_reply": "2023-05-23T01:53:43.869642Z",
     "shell.execute_reply.started": "2022-02-10T13:45:09.282758Z"
    },
    "papermill": {
     "duration": 0.070294,
     "end_time": "2023-05-23T01:53:43.870255",
     "exception": false,
     "start_time": "2023-05-23T01:53:43.799961",
     "status": "completed"
    },
    "tags": []
   },
   "outputs": [
    {
     "data": {
      "text/plain": [
       "array([[132,  25],\n",
       "       [ 57,  54]])"
      ]
     },
     "execution_count": 30,
     "metadata": {},
     "output_type": "execute_result"
    }
   ],
   "source": [
    "cm=confusion_matrix(y_test,predicted)\n",
    "cm"
   ]
  },
  {
   "cell_type": "code",
   "execution_count": 31,
   "id": "3d9740f5",
   "metadata": {
    "execution": {
     "iopub.execute_input": "2023-05-23T01:53:43.993971Z",
     "iopub.status.busy": "2023-05-23T01:53:43.993082Z",
     "iopub.status.idle": "2023-05-23T01:53:43.995455Z",
     "shell.execute_reply": "2023-05-23T01:53:43.996009Z",
     "shell.execute_reply.started": "2022-02-10T13:45:09.312496Z"
    },
    "papermill": {
     "duration": 0.067437,
     "end_time": "2023-05-23T01:53:43.996165",
     "exception": false,
     "start_time": "2023-05-23T01:53:43.928728",
     "status": "completed"
    },
    "tags": []
   },
   "outputs": [],
   "source": [
    "trees_grid = {'n_estimators': [100, 150, 200, 250, 300, 350, 400, 450, 500, 550, 600, 650, 700, 750, 800]}\n",
    "#Parameter grid for the gridsearch\n",
    "#These are the parameters that the gridsearch with methodical work through\n",
    "#to determine the best set for the task at hand.\n",
    "params = {\n",
    "    'n_estimators': [300, 500],\n",
    "    'max_features': ['auto', 'sqrt', 'log2'],\n",
    "    'max_depth' : [3, 4, 5],\n",
    "    'criterion' :['gini', 'entropy']\n",
    "}\n",
    "#This parameter grid has been shortened to help the runtime of this notebook."
   ]
  },
  {
   "cell_type": "code",
   "execution_count": 32,
   "id": "1d98c989",
   "metadata": {
    "execution": {
     "iopub.execute_input": "2023-05-23T01:53:44.124453Z",
     "iopub.status.busy": "2023-05-23T01:53:44.123563Z",
     "iopub.status.idle": "2023-05-23T01:56:04.651122Z",
     "shell.execute_reply": "2023-05-23T01:56:04.651594Z",
     "shell.execute_reply.started": "2022-02-10T13:45:09.336856Z"
    },
    "papermill": {
     "duration": 140.596706,
     "end_time": "2023-05-23T01:56:04.651793",
     "exception": false,
     "start_time": "2023-05-23T01:53:44.055087",
     "status": "completed"
    },
    "tags": []
   },
   "outputs": [
    {
     "name": "stdout",
     "output_type": "stream",
     "text": [
      "Fitting 5 folds for each of 36 candidates, totalling 180 fits\n"
     ]
    },
    {
     "name": "stderr",
     "output_type": "stream",
     "text": [
      "[Parallel(n_jobs=1)]: Using backend SequentialBackend with 1 concurrent workers.\n",
      "[Parallel(n_jobs=1)]: Done 180 out of 180 | elapsed:  2.3min finished\n"
     ]
    },
    {
     "name": "stdout",
     "output_type": "stream",
     "text": [
      "     Actual  pred\n",
      "709       1     0\n",
      "439       0     0\n",
      "840       0     0\n",
      "720       1     1\n",
      "39        1     1\n",
      "..      ...   ...\n",
      "821       1     0\n",
      "633       0     0\n",
      "456       0     0\n",
      "500       0     0\n",
      "430       1     0\n",
      "\n",
      "[268 rows x 2 columns]\n"
     ]
    }
   ],
   "source": [
    "trees_grid = {'n_estimators': [100, 150, 200, 250, 300, 350, 400, 450, 500, 550, 600, 650, 700, 750, 800]}\n",
    "classifier =RandomForestClassifier(max_depth = 5,\n",
    "                                  min_samples_leaf = 6,\n",
    "                                  min_samples_split = 6,\n",
    "                                  max_features = None,\n",
    "                                  random_state = 42)\n",
    "\n",
    "# Grid Search Object using the trees range and the random forest model\n",
    "grid_search = GridSearchCV(estimator=classifier,param_grid=params,scoring='accuracy',cv=5,verbose=True)\n",
    "grid_search.fit(x_train, y_train)\n",
    "predicted=grid_search.predict(x_test)\n",
    "pred_df=pd.DataFrame({\"Actual\":y_test,\"pred\":predicted})\n",
    "acc_random_forest=accuracy_score(y_test,predicted) * 100\n",
    "print(pred_df)"
   ]
  },
  {
   "cell_type": "code",
   "execution_count": 33,
   "id": "4fb93a26",
   "metadata": {
    "execution": {
     "iopub.execute_input": "2023-05-23T01:56:04.778348Z",
     "iopub.status.busy": "2023-05-23T01:56:04.777447Z",
     "iopub.status.idle": "2023-05-23T01:56:04.784142Z",
     "shell.execute_reply": "2023-05-23T01:56:04.783554Z",
     "shell.execute_reply.started": "2022-02-10T13:47:16.666563Z"
    },
    "papermill": {
     "duration": 0.071701,
     "end_time": "2023-05-23T01:56:04.784338",
     "exception": false,
     "start_time": "2023-05-23T01:56:04.712637",
     "status": "completed"
    },
    "tags": []
   },
   "outputs": [
    {
     "data": {
      "text/plain": [
       "array([[144,  13],\n",
       "       [ 38,  73]])"
      ]
     },
     "execution_count": 33,
     "metadata": {},
     "output_type": "execute_result"
    }
   ],
   "source": [
    "cm=confusion_matrix(y_test,predicted)\n",
    "cm"
   ]
  },
  {
   "cell_type": "code",
   "execution_count": 34,
   "id": "7ab59a68",
   "metadata": {
    "execution": {
     "iopub.execute_input": "2023-05-23T01:56:04.911161Z",
     "iopub.status.busy": "2023-05-23T01:56:04.910273Z",
     "iopub.status.idle": "2023-05-23T01:56:04.919564Z",
     "shell.execute_reply": "2023-05-23T01:56:04.918937Z",
     "shell.execute_reply.started": "2022-02-10T13:47:16.675970Z"
    },
    "papermill": {
     "duration": 0.074669,
     "end_time": "2023-05-23T01:56:04.919698",
     "exception": false,
     "start_time": "2023-05-23T01:56:04.845029",
     "status": "completed"
    },
    "tags": []
   },
   "outputs": [
    {
     "name": "stdout",
     "output_type": "stream",
     "text": [
      "RandomForestClassifier report \n",
      "               precision    recall  f1-score   support\n",
      "\n",
      "           0       0.79      0.92      0.85       157\n",
      "           1       0.85      0.66      0.74       111\n",
      "\n",
      "    accuracy                           0.81       268\n",
      "   macro avg       0.82      0.79      0.80       268\n",
      "weighted avg       0.82      0.81      0.80       268\n",
      "\n"
     ]
    }
   ],
   "source": [
    "report=classification_report(y_test,predicted)\n",
    "print(\"RandomForestClassifier report \\n\",report)"
   ]
  },
  {
   "cell_type": "code",
   "execution_count": 35,
   "id": "6279389d",
   "metadata": {
    "execution": {
     "iopub.execute_input": "2023-05-23T01:56:05.049323Z",
     "iopub.status.busy": "2023-05-23T01:56:05.048515Z",
     "iopub.status.idle": "2023-05-23T01:56:05.074478Z",
     "shell.execute_reply": "2023-05-23T01:56:05.073898Z",
     "shell.execute_reply.started": "2022-02-10T13:47:16.689305Z"
    },
    "papermill": {
     "duration": 0.094355,
     "end_time": "2023-05-23T01:56:05.074618",
     "exception": false,
     "start_time": "2023-05-23T01:56:04.980263",
     "status": "completed"
    },
    "tags": []
   },
   "outputs": [
    {
     "name": "stdout",
     "output_type": "stream",
     "text": [
      "     Actual  pred\n",
      "709       1     0\n",
      "439       0     0\n",
      "840       0     0\n",
      "720       1     0\n",
      "39        1     0\n",
      "..      ...   ...\n",
      "821       1     0\n",
      "633       0     0\n",
      "456       0     0\n",
      "500       0     0\n",
      "430       1     0\n",
      "\n",
      "[268 rows x 2 columns]\n"
     ]
    }
   ],
   "source": [
    "classifier =SVC()\n",
    "classifier.fit(x_train, y_train)\n",
    "predicted=classifier.predict(x_test)\n",
    "pred_df=pd.DataFrame({\"Actual\":y_test,\"pred\":predicted})\n",
    "acc_svc=accuracy_score(y_test,predicted) * 100\n",
    "print(pred_df)"
   ]
  },
  {
   "cell_type": "code",
   "execution_count": 36,
   "id": "866be135",
   "metadata": {
    "execution": {
     "iopub.execute_input": "2023-05-23T01:56:05.211509Z",
     "iopub.status.busy": "2023-05-23T01:56:05.209432Z",
     "iopub.status.idle": "2023-05-23T01:56:05.215636Z",
     "shell.execute_reply": "2023-05-23T01:56:05.215128Z",
     "shell.execute_reply.started": "2022-02-10T13:47:16.720177Z"
    },
    "papermill": {
     "duration": 0.077085,
     "end_time": "2023-05-23T01:56:05.215782",
     "exception": false,
     "start_time": "2023-05-23T01:56:05.138697",
     "status": "completed"
    },
    "tags": []
   },
   "outputs": [
    {
     "data": {
      "text/plain": [
       "array([[148,   9],\n",
       "       [ 82,  29]])"
      ]
     },
     "execution_count": 36,
     "metadata": {},
     "output_type": "execute_result"
    }
   ],
   "source": [
    "cm=confusion_matrix(y_test,predicted)\n",
    "cm"
   ]
  },
  {
   "cell_type": "code",
   "execution_count": 37,
   "id": "6d789181",
   "metadata": {
    "execution": {
     "iopub.execute_input": "2023-05-23T01:56:05.347784Z",
     "iopub.status.busy": "2023-05-23T01:56:05.346845Z",
     "iopub.status.idle": "2023-05-23T01:56:05.355634Z",
     "shell.execute_reply": "2023-05-23T01:56:05.356153Z",
     "shell.execute_reply.started": "2022-02-10T13:47:16.730959Z"
    },
    "papermill": {
     "duration": 0.077071,
     "end_time": "2023-05-23T01:56:05.356346",
     "exception": false,
     "start_time": "2023-05-23T01:56:05.279275",
     "status": "completed"
    },
    "tags": []
   },
   "outputs": [
    {
     "name": "stdout",
     "output_type": "stream",
     "text": [
      "SVC report \n",
      "               precision    recall  f1-score   support\n",
      "\n",
      "           0       0.64      0.94      0.76       157\n",
      "           1       0.76      0.26      0.39       111\n",
      "\n",
      "    accuracy                           0.66       268\n",
      "   macro avg       0.70      0.60      0.58       268\n",
      "weighted avg       0.69      0.66      0.61       268\n",
      "\n"
     ]
    }
   ],
   "source": [
    "report=classification_report(y_test,predicted)\n",
    "print(\"SVC report \\n\",report)"
   ]
  },
  {
   "cell_type": "code",
   "execution_count": 38,
   "id": "7789ca98",
   "metadata": {
    "execution": {
     "iopub.execute_input": "2023-05-23T01:56:05.488611Z",
     "iopub.status.busy": "2023-05-23T01:56:05.487732Z",
     "iopub.status.idle": "2023-05-23T01:56:05.609658Z",
     "shell.execute_reply": "2023-05-23T01:56:05.610132Z",
     "shell.execute_reply.started": "2022-02-10T13:47:16.742601Z"
    },
    "papermill": {
     "duration": 0.19146,
     "end_time": "2023-05-23T01:56:05.610314",
     "exception": false,
     "start_time": "2023-05-23T01:56:05.418854",
     "status": "completed"
    },
    "tags": []
   },
   "outputs": [
    {
     "name": "stdout",
     "output_type": "stream",
     "text": [
      "     Actual  pred\n",
      "709       1     0\n",
      "439       0     0\n",
      "840       0     0\n",
      "720       1     1\n",
      "39        1     1\n",
      "..      ...   ...\n",
      "821       1     0\n",
      "633       0     0\n",
      "456       0     0\n",
      "500       0     0\n",
      "430       1     0\n",
      "\n",
      "[268 rows x 2 columns]\n"
     ]
    }
   ],
   "source": [
    "model = LogisticRegression(solver='liblinear')\n",
    "model.fit(x_train, y_train)\n",
    "predicted = model.predict(x_test)\n",
    "pred_df=pd.DataFrame({\"Actual\":y_test,\"pred\":predicted})\n",
    "acc_log=accuracy_score(y_test,predicted) * 100\n",
    "print(pred_df)"
   ]
  },
  {
   "cell_type": "markdown",
   "id": "a69665a7",
   "metadata": {
    "papermill": {
     "duration": 0.061734,
     "end_time": "2023-05-23T01:56:05.734522",
     "exception": false,
     "start_time": "2023-05-23T01:56:05.672788",
     "status": "completed"
    },
    "tags": []
   },
   "source": [
    "\"str' object has no attribute 'decode' logistic regression\"\n",
    "This error was shown only with logistic regression but if you wrote \"solver='liblinear'\",it will be solved"
   ]
  },
  {
   "cell_type": "code",
   "execution_count": 39,
   "id": "cd621f45",
   "metadata": {
    "execution": {
     "iopub.execute_input": "2023-05-23T01:56:05.864012Z",
     "iopub.status.busy": "2023-05-23T01:56:05.862993Z",
     "iopub.status.idle": "2023-05-23T01:56:05.869449Z",
     "shell.execute_reply": "2023-05-23T01:56:05.868956Z",
     "shell.execute_reply.started": "2022-02-10T13:47:16.886059Z"
    },
    "papermill": {
     "duration": 0.073032,
     "end_time": "2023-05-23T01:56:05.869582",
     "exception": false,
     "start_time": "2023-05-23T01:56:05.796550",
     "status": "completed"
    },
    "tags": []
   },
   "outputs": [
    {
     "data": {
      "text/plain": [
       "array([[137,  20],\n",
       "       [ 33,  78]])"
      ]
     },
     "execution_count": 39,
     "metadata": {},
     "output_type": "execute_result"
    }
   ],
   "source": [
    "cm=confusion_matrix(y_test,predicted)\n",
    "cm"
   ]
  },
  {
   "cell_type": "code",
   "execution_count": 40,
   "id": "0b7c95b8",
   "metadata": {
    "execution": {
     "iopub.execute_input": "2023-05-23T01:56:06.013076Z",
     "iopub.status.busy": "2023-05-23T01:56:06.012173Z",
     "iopub.status.idle": "2023-05-23T01:56:06.020971Z",
     "shell.execute_reply": "2023-05-23T01:56:06.020313Z",
     "shell.execute_reply.started": "2022-02-10T13:47:16.895678Z"
    },
    "papermill": {
     "duration": 0.086483,
     "end_time": "2023-05-23T01:56:06.021110",
     "exception": false,
     "start_time": "2023-05-23T01:56:05.934627",
     "status": "completed"
    },
    "tags": []
   },
   "outputs": [
    {
     "name": "stdout",
     "output_type": "stream",
     "text": [
      "Logistic regression report \n",
      "               precision    recall  f1-score   support\n",
      "\n",
      "           0       0.81      0.87      0.84       157\n",
      "           1       0.80      0.70      0.75       111\n",
      "\n",
      "    accuracy                           0.80       268\n",
      "   macro avg       0.80      0.79      0.79       268\n",
      "weighted avg       0.80      0.80      0.80       268\n",
      "\n"
     ]
    }
   ],
   "source": [
    "report=classification_report(y_test,predicted)\n",
    "print(\"Logistic regression report \\n\",report)"
   ]
  },
  {
   "cell_type": "code",
   "execution_count": 41,
   "id": "3a2d8bb3",
   "metadata": {
    "execution": {
     "iopub.execute_input": "2023-05-23T01:56:06.156911Z",
     "iopub.status.busy": "2023-05-23T01:56:06.156287Z",
     "iopub.status.idle": "2023-05-23T01:56:06.167994Z",
     "shell.execute_reply": "2023-05-23T01:56:06.168501Z",
     "shell.execute_reply.started": "2022-02-10T13:47:16.907489Z"
    },
    "papermill": {
     "duration": 0.082615,
     "end_time": "2023-05-23T01:56:06.168661",
     "exception": false,
     "start_time": "2023-05-23T01:56:06.086046",
     "status": "completed"
    },
    "tags": []
   },
   "outputs": [
    {
     "name": "stdout",
     "output_type": "stream",
     "text": [
      "     Actual  pred\n",
      "709       1     0\n",
      "439       0     0\n",
      "840       0     0\n",
      "720       1     1\n",
      "39        1     1\n",
      "..      ...   ...\n",
      "821       1     0\n",
      "633       0     0\n",
      "456       0     0\n",
      "500       0     0\n",
      "430       1     0\n",
      "\n",
      "[268 rows x 2 columns]\n"
     ]
    }
   ],
   "source": [
    "decision_tree = DecisionTreeClassifier(max_depth=6, min_samples_leaf=6, min_samples_split=10)\n",
    "decision_tree.fit(x_train, y_train)\n",
    "predicted = decision_tree.predict(x_test)\n",
    "pred_df=pd.DataFrame({\"Actual\":y_test,\"pred\":predicted})\n",
    "acc_DC=accuracy_score(y_test,predicted) * 100\n",
    "print(pred_df)"
   ]
  },
  {
   "cell_type": "code",
   "execution_count": 42,
   "id": "51771e70",
   "metadata": {
    "execution": {
     "iopub.execute_input": "2023-05-23T01:56:06.305928Z",
     "iopub.status.busy": "2023-05-23T01:56:06.305097Z",
     "iopub.status.idle": "2023-05-23T02:05:19.921127Z",
     "shell.execute_reply": "2023-05-23T02:05:19.921687Z",
     "shell.execute_reply.started": "2022-02-10T13:47:16.924329Z"
    },
    "papermill": {
     "duration": 553.689001,
     "end_time": "2023-05-23T02:05:19.921872",
     "exception": false,
     "start_time": "2023-05-23T01:56:06.232871",
     "status": "completed"
    },
    "tags": []
   },
   "outputs": [
    {
     "name": "stdout",
     "output_type": "stream",
     "text": [
      "     Actual  pred\n",
      "709       1     0\n",
      "439       0     0\n",
      "840       0     0\n",
      "720       1     0\n",
      "39        1     0\n",
      "..      ...   ...\n",
      "821       1     0\n",
      "633       0     0\n",
      "456       0     0\n",
      "500       0     0\n",
      "430       1     0\n",
      "\n",
      "[268 rows x 2 columns]\n"
     ]
    }
   ],
   "source": [
    "avc=SVC(probability=True,kernel=\"linear\")\n",
    "model = AdaBoostClassifier(n_estimators=5000,base_estimator=avc)\n",
    "\n",
    "# Train the model using the training sets\n",
    "model.fit(x_train,y_train)\n",
    "\n",
    "#Predict Output\n",
    "predicted= model.predict(x_test)\n",
    "pred_df=pd.DataFrame({\"Actual\":y_test,\"pred\":predicted})\n",
    "acc_ada=accuracy_score(y_test,predicted) * 100\n",
    "print(pred_df)"
   ]
  },
  {
   "cell_type": "code",
   "execution_count": 43,
   "id": "63c8aab3",
   "metadata": {
    "execution": {
     "iopub.execute_input": "2023-05-23T02:05:20.109220Z",
     "iopub.status.busy": "2023-05-23T02:05:20.108262Z",
     "iopub.status.idle": "2023-05-23T02:05:20.111978Z",
     "shell.execute_reply": "2023-05-23T02:05:20.112470Z",
     "shell.execute_reply.started": "2022-02-10T13:56:22.460626Z"
    },
    "papermill": {
     "duration": 0.080203,
     "end_time": "2023-05-23T02:05:20.112628",
     "exception": false,
     "start_time": "2023-05-23T02:05:20.032425",
     "status": "completed"
    },
    "tags": []
   },
   "outputs": [
    {
     "data": {
      "text/html": [
       "<div>\n",
       "<style scoped>\n",
       "    .dataframe tbody tr th:only-of-type {\n",
       "        vertical-align: middle;\n",
       "    }\n",
       "\n",
       "    .dataframe tbody tr th {\n",
       "        vertical-align: top;\n",
       "    }\n",
       "\n",
       "    .dataframe thead th {\n",
       "        text-align: right;\n",
       "    }\n",
       "</style>\n",
       "<table border=\"1\" class=\"dataframe\">\n",
       "  <thead>\n",
       "    <tr style=\"text-align: right;\">\n",
       "      <th></th>\n",
       "      <th>Model</th>\n",
       "      <th>Score</th>\n",
       "    </tr>\n",
       "  </thead>\n",
       "  <tbody>\n",
       "    <tr>\n",
       "      <th>5</th>\n",
       "      <td>Desicion Tree</td>\n",
       "      <td>81.716418</td>\n",
       "    </tr>\n",
       "    <tr>\n",
       "      <th>3</th>\n",
       "      <td>Random Forest</td>\n",
       "      <td>80.970149</td>\n",
       "    </tr>\n",
       "    <tr>\n",
       "      <th>2</th>\n",
       "      <td>Logistic Regression</td>\n",
       "      <td>80.223881</td>\n",
       "    </tr>\n",
       "    <tr>\n",
       "      <th>4</th>\n",
       "      <td>Naive Bayes</td>\n",
       "      <td>79.477612</td>\n",
       "    </tr>\n",
       "    <tr>\n",
       "      <th>1</th>\n",
       "      <td>KNN</td>\n",
       "      <td>69.402985</td>\n",
       "    </tr>\n",
       "    <tr>\n",
       "      <th>0</th>\n",
       "      <td>Support Vector Machines</td>\n",
       "      <td>66.044776</td>\n",
       "    </tr>\n",
       "    <tr>\n",
       "      <th>6</th>\n",
       "      <td>Adaboost</td>\n",
       "      <td>58.582090</td>\n",
       "    </tr>\n",
       "  </tbody>\n",
       "</table>\n",
       "</div>"
      ],
      "text/plain": [
       "                     Model      Score\n",
       "5            Desicion Tree  81.716418\n",
       "3            Random Forest  80.970149\n",
       "2      Logistic Regression  80.223881\n",
       "4              Naive Bayes  79.477612\n",
       "1                      KNN  69.402985\n",
       "0  Support Vector Machines  66.044776\n",
       "6                 Adaboost  58.582090"
      ]
     },
     "execution_count": 43,
     "metadata": {},
     "output_type": "execute_result"
    }
   ],
   "source": [
    "models = pd.DataFrame({\n",
    "    'Model': ['Support Vector Machines', 'KNN', 'Logistic Regression',\n",
    "              'Random Forest', 'Naive Bayes','Desicion Tree','Adaboost'],\n",
    "    'Score': [acc_svc, acc_knn, acc_log, \n",
    "              acc_random_forest, acc_gaussian, acc_DC, acc_ada]})\n",
    "models.sort_values(by='Score', ascending=False)"
   ]
  },
  {
   "cell_type": "markdown",
   "id": "9de8b3ba",
   "metadata": {
    "papermill": {
     "duration": 0.063915,
     "end_time": "2023-05-23T02:05:20.245668",
     "exception": false,
     "start_time": "2023-05-23T02:05:20.181753",
     "status": "completed"
    },
    "tags": []
   },
   "source": [
    "### We observed that the the logistic regression has the best accuracy"
   ]
  },
  {
   "cell_type": "code",
   "execution_count": 44,
   "id": "781f7f17",
   "metadata": {
    "execution": {
     "iopub.execute_input": "2023-05-23T02:05:20.378782Z",
     "iopub.status.busy": "2023-05-23T02:05:20.377643Z",
     "iopub.status.idle": "2023-05-23T02:05:20.379759Z",
     "shell.execute_reply": "2023-05-23T02:05:20.380464Z",
     "shell.execute_reply.started": "2022-02-10T13:56:22.475369Z"
    },
    "papermill": {
     "duration": 0.071409,
     "end_time": "2023-05-23T02:05:20.380616",
     "exception": false,
     "start_time": "2023-05-23T02:05:20.309207",
     "status": "completed"
    },
    "tags": []
   },
   "outputs": [],
   "source": [
    "#sc=StandardScaler()\n",
    "#test_data=sc.fit_transform(test_data)"
   ]
  },
  {
   "cell_type": "code",
   "execution_count": 45,
   "id": "33cac0e1",
   "metadata": {
    "execution": {
     "iopub.execute_input": "2023-05-23T02:05:20.516434Z",
     "iopub.status.busy": "2023-05-23T02:05:20.515545Z",
     "iopub.status.idle": "2023-05-23T02:07:41.151342Z",
     "shell.execute_reply": "2023-05-23T02:07:41.151923Z",
     "shell.execute_reply.started": "2022-02-10T13:56:22.484075Z"
    },
    "papermill": {
     "duration": 140.707335,
     "end_time": "2023-05-23T02:07:41.152121",
     "exception": false,
     "start_time": "2023-05-23T02:05:20.444786",
     "status": "completed"
    },
    "tags": []
   },
   "outputs": [
    {
     "name": "stdout",
     "output_type": "stream",
     "text": [
      "Fitting 5 folds for each of 36 candidates, totalling 180 fits\n"
     ]
    },
    {
     "name": "stderr",
     "output_type": "stream",
     "text": [
      "[Parallel(n_jobs=1)]: Using backend SequentialBackend with 1 concurrent workers.\n",
      "[Parallel(n_jobs=1)]: Done 180 out of 180 | elapsed:  2.3min finished\n"
     ]
    },
    {
     "data": {
      "text/plain": [
       "array([0, 0, 0, 0, 0, 0, 1, 0, 1, 0, 0, 0, 1, 0, 1, 1, 0, 0, 0, 0, 0, 0,\n",
       "       1, 0, 1, 0, 1, 0, 0, 0, 0, 0, 0, 0, 0, 0, 0, 0, 0, 0, 0, 0, 0, 1,\n",
       "       1, 0, 0, 0, 1, 0, 0, 0, 1, 1, 0, 0, 0, 0, 0, 1, 0, 0, 0, 1, 1, 1,\n",
       "       1, 0, 0, 1, 1, 0, 0, 0, 1, 0, 0, 1, 0, 1, 1, 0, 0, 0, 0, 0, 1, 0,\n",
       "       1, 1, 0, 0, 1, 0, 0, 0, 1, 0, 0, 0, 1, 0, 0, 0, 1, 0, 0, 0, 0, 0,\n",
       "       0, 1, 1, 1, 1, 0, 0, 1, 0, 1, 1, 0, 1, 0, 0, 1, 0, 1, 0, 0, 0, 0,\n",
       "       0, 0, 0, 0, 0, 0, 0, 0, 0, 1, 0, 0, 0, 0, 0, 0, 0, 0, 1, 0, 0, 0,\n",
       "       0, 0, 1, 0, 0, 0, 1, 0, 1, 0, 0, 0, 0, 0, 1, 0, 0, 0, 0, 0, 0, 1,\n",
       "       1, 0, 1, 1, 0, 0, 1, 0, 1, 0, 1, 0, 0, 0, 0, 0, 0, 0, 0, 0, 1, 0,\n",
       "       0, 0, 1, 1, 0, 1, 0, 0, 1, 0, 1, 0, 0, 0, 0, 1, 0, 0, 1, 0, 1, 0,\n",
       "       1, 0, 1, 0, 1, 1, 0, 1, 0, 0, 0, 1, 0, 0, 0, 0, 0, 0, 1, 1, 1, 1,\n",
       "       0, 0, 0, 0, 1, 0, 1, 1, 1, 0, 0, 0, 0, 0, 0, 0, 1, 0, 0, 0, 1, 1,\n",
       "       0, 0, 0, 0, 0, 0, 0, 0, 1, 1, 0, 1, 0, 0, 0, 0, 0, 1, 1, 1, 1, 0,\n",
       "       0, 0, 0, 0, 0, 1, 0, 0, 0, 0, 1, 0, 0, 0, 0, 0, 0, 0, 1, 1, 0, 0,\n",
       "       0, 0, 0, 0, 0, 1, 1, 1, 0, 0, 0, 0, 0, 0, 0, 0, 1, 0, 1, 0, 0, 0,\n",
       "       1, 0, 0, 1, 0, 0, 0, 0, 0, 0, 0, 0, 0, 1, 0, 0, 0, 0, 0, 1, 1, 0,\n",
       "       0, 0, 1, 0, 1, 0, 0, 0, 0, 1, 1, 0, 1, 0, 0, 0, 1, 0, 0, 1, 0, 0,\n",
       "       1, 1, 0, 0, 0, 0, 0, 0, 0, 0, 0, 1, 0, 0, 0, 0, 0, 1, 0, 0, 0, 1,\n",
       "       0, 1, 0, 0, 1, 0, 1, 0, 0, 0, 0, 0, 1, 1, 1, 1, 0, 0, 1, 0, 0, 0])"
      ]
     },
     "execution_count": 45,
     "metadata": {},
     "output_type": "execute_result"
    }
   ],
   "source": [
    "decision_tree = DecisionTreeClassifier(max_depth=6, min_samples_leaf=6, min_samples_split=10)\n",
    "grid_search.fit(x_train, y_train)\n",
    "y_pred = grid_search.predict(test_data)\n",
    "#pred_df=pd.DataFrame({\"Actual\":y_test,\"pred\":predicted})\n",
    "#print(pred_df)\n",
    "y_pred"
   ]
  },
  {
   "cell_type": "code",
   "execution_count": 46,
   "id": "c1fe4503",
   "metadata": {
    "execution": {
     "iopub.execute_input": "2023-05-23T02:07:41.289131Z",
     "iopub.status.busy": "2023-05-23T02:07:41.288244Z",
     "iopub.status.idle": "2023-05-23T02:07:41.296136Z",
     "shell.execute_reply": "2023-05-23T02:07:41.295657Z",
     "shell.execute_reply.started": "2022-02-10T13:58:29.979525Z"
    },
    "papermill": {
     "duration": 0.078969,
     "end_time": "2023-05-23T02:07:41.296281",
     "exception": false,
     "start_time": "2023-05-23T02:07:41.217312",
     "status": "completed"
    },
    "tags": []
   },
   "outputs": [
    {
     "name": "stdout",
     "output_type": "stream",
     "text": [
      "Your submission was successfully saved.\n"
     ]
    }
   ],
   "source": [
    "output = pd.DataFrame({'PassengerId': test_df[\"PassengerId\"], 'Survived': y_pred})\n",
    "output.to_csv('my_submission.csv', index=False)\n",
    "print(\"Your submission was successfully saved.\")"
   ]
  },
  {
   "cell_type": "code",
   "execution_count": 47,
   "id": "c0dd23dd",
   "metadata": {
    "execution": {
     "iopub.execute_input": "2023-05-23T02:07:41.438190Z",
     "iopub.status.busy": "2023-05-23T02:07:41.437538Z",
     "iopub.status.idle": "2023-05-23T02:07:41.444161Z",
     "shell.execute_reply": "2023-05-23T02:07:41.443700Z",
     "shell.execute_reply.started": "2022-02-10T13:58:29.992906Z"
    },
    "papermill": {
     "duration": 0.081406,
     "end_time": "2023-05-23T02:07:41.444319",
     "exception": false,
     "start_time": "2023-05-23T02:07:41.362913",
     "status": "completed"
    },
    "tags": []
   },
   "outputs": [
    {
     "data": {
      "text/html": [
       "<div>\n",
       "<style scoped>\n",
       "    .dataframe tbody tr th:only-of-type {\n",
       "        vertical-align: middle;\n",
       "    }\n",
       "\n",
       "    .dataframe tbody tr th {\n",
       "        vertical-align: top;\n",
       "    }\n",
       "\n",
       "    .dataframe thead th {\n",
       "        text-align: right;\n",
       "    }\n",
       "</style>\n",
       "<table border=\"1\" class=\"dataframe\">\n",
       "  <thead>\n",
       "    <tr style=\"text-align: right;\">\n",
       "      <th></th>\n",
       "      <th>PassengerId</th>\n",
       "      <th>Survived</th>\n",
       "    </tr>\n",
       "  </thead>\n",
       "  <tbody>\n",
       "    <tr>\n",
       "      <th>0</th>\n",
       "      <td>892</td>\n",
       "      <td>0</td>\n",
       "    </tr>\n",
       "    <tr>\n",
       "      <th>1</th>\n",
       "      <td>893</td>\n",
       "      <td>0</td>\n",
       "    </tr>\n",
       "    <tr>\n",
       "      <th>2</th>\n",
       "      <td>894</td>\n",
       "      <td>0</td>\n",
       "    </tr>\n",
       "    <tr>\n",
       "      <th>3</th>\n",
       "      <td>895</td>\n",
       "      <td>0</td>\n",
       "    </tr>\n",
       "    <tr>\n",
       "      <th>4</th>\n",
       "      <td>896</td>\n",
       "      <td>0</td>\n",
       "    </tr>\n",
       "  </tbody>\n",
       "</table>\n",
       "</div>"
      ],
      "text/plain": [
       "   PassengerId  Survived\n",
       "0          892         0\n",
       "1          893         0\n",
       "2          894         0\n",
       "3          895         0\n",
       "4          896         0"
      ]
     },
     "execution_count": 47,
     "metadata": {},
     "output_type": "execute_result"
    }
   ],
   "source": [
    "output.head()"
   ]
  }
 ],
 "metadata": {
  "kernelspec": {
   "display_name": "Python 3",
   "language": "python",
   "name": "python3"
  },
  "language_info": {
   "codemirror_mode": {
    "name": "ipython",
    "version": 3
   },
   "file_extension": ".py",
   "mimetype": "text/x-python",
   "name": "python",
   "nbconvert_exporter": "python",
   "pygments_lexer": "ipython3",
   "version": "3.7.10"
  },
  "papermill": {
   "default_parameters": {},
   "duration": 854.745807,
   "end_time": "2023-05-23T02:07:42.219766",
   "environment_variables": {},
   "exception": null,
   "input_path": "__notebook__.ipynb",
   "output_path": "__notebook__.ipynb",
   "parameters": {},
   "start_time": "2023-05-23T01:53:27.473959",
   "version": "2.3.3"
  }
 },
 "nbformat": 4,
 "nbformat_minor": 5
}
